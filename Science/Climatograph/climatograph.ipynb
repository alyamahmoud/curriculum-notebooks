{
 "cells": [
  {
   "cell_type": "markdown",
   "metadata": {},
   "source": [
    "![Callysto.ca Banner](https://github.com/callysto/curriculum-notebooks/blob/master/callysto-notebook-banner-top.jpg?raw=true)"
   ]
  },
  {
   "cell_type": "markdown",
   "metadata": {},
   "source": [
    "# Climatograph\n",
    "\n",
    "A climatograph (or [climograph](https://en.wikipedia.org/wiki/Climograph)) is a visualization of the monthly average [precipitation](https://simple.wikipedia.org/wiki/Precipitation) and [temperature](https://simple.wikipedia.org/wiki/Temperature) at a particular location to show the climate there.\n",
    "\n",
    "In this notebook we are using climate data from [The World Bank](https://www.worldbank.org/en/about/legal/terms-of-use-for-datasets) because we are [allowed to share and remix](https://creativecommons.org/licenses/by/4.0/) their content.\n",
    "\n",
    "Select the next cell and click the `▶Run` button to import the code libraries that we will use."
   ]
  },
  {
   "cell_type": "code",
   "execution_count": null,
   "metadata": {},
   "outputs": [],
   "source": [
    "!pip install geopy\n",
    "import pandas as pd\n",
    "import plotly.graph_objs as go\n",
    "import numpy as np\n",
    "from geopy.geocoders import Nominatim\n",
    "geolocator = Nominatim(user_agent='Callysto Climatograph')\n",
    "print('Libraries successfully imported.')"
   ]
  },
  {
   "cell_type": "markdown",
   "metadata": {},
   "source": [
    "## Data\n",
    "\n",
    "In the following cell, change the city or town name in `location = 'Calgary, AB'` to something like `location = 'Honolulu'`.\n",
    "\n",
    "You can also change `year = 2016` to any year between `1991` and `2016`.\n",
    "\n",
    "`Run` the cell to get and show the data."
   ]
  },
  {
   "cell_type": "code",
   "execution_count": null,
   "metadata": {},
   "outputs": [],
   "source": [
    "location = 'Calgary, AB'\n",
    "\n",
    "coordinates = geolocator.geocode(location)\n",
    "latitude = coordinates.latitude  # if geolocator isn't working, you can manually set the lat and long here\n",
    "longitude = coordinates.longitude\n",
    "\n",
    "precipitation_url = 'https://climateknowledgeportal.worldbank.org/api/data/get-download-data/historical/pr/1901-2016/'+str(latitude)+'$cckp$'+str(longitude)+'/'+str(latitude)+'$cckp$'+str(longitude)\n",
    "df_precipitation_all = pd.read_csv(precipitation_url)\n",
    "df_precipitation = df_precipitation_all.drop(columns=[' Longitude', ' Latitude', ' Year']).replace(' Average','',regex=True).replace(' ','',regex=True).rename(columns={'Rainfall - (MM)':'Precipitation (mm)', ' Statistics':'Month'})\n",
    "dfp = df_precipitation.groupby('Month').aggregate(np.mean)\n",
    "\n",
    "temperature_url = 'https://climateknowledgeportal.worldbank.org/api/data/get-download-data/historical/tas/1991-2016/'+str(latitude)+'$cckp$'+str(longitude)+'/'+str(latitude)+'$cckp$'+str(longitude)\n",
    "df_temperature_all = pd.read_csv(temperature_url)\n",
    "df_temperature = df_temperature_all.drop(columns=[' Longitude', ' Latitude', ' Year']).replace(' Average','',regex=True).replace(' ','',regex=True).rename(columns={'Temperature - (Celsius)':'Temperature (°C)', ' Statistics':'Month'})\n",
    "dft = df_temperature.groupby('Month').aggregate(np.mean)\n",
    "\n",
    "months = ['Jan', 'Feb', 'Mar', 'Apr', 'May', 'Jun', 'Jul', 'Aug', 'Sep', 'Oct', 'Nov', 'Dec']\n",
    "climate_data = dfp.join(dft)\n",
    "climate_data.index = pd.CategoricalIndex(climate_data.index, categories=months, ordered=True)\n",
    "climate_data = climate_data.sort_index()\n",
    "climate_data"
   ]
  },
  {
   "cell_type": "markdown",
   "metadata": {},
   "source": [
    "## Graph\n",
    "\n",
    "`Run` the next cell to make a graph."
   ]
  },
  {
   "cell_type": "code",
   "execution_count": null,
   "metadata": {},
   "outputs": [],
   "source": [
    "trace1 = go.Bar(x=climate_data.index.values.tolist(),y=climate_data['Precipitation (mm)'],name='Precipitation')\n",
    "trace2 = go.Scatter(x=climate_data.index.values.tolist(),y=climate_data['Temperature (°C)'],name='Average Temperature (°C)',yaxis='y2')\n",
    "layout = go.Layout(\n",
    "    title= ('Climatograph for '+location+' ('+str(latitude)+','+str(longitude)+')'),\n",
    "    yaxis=dict(title='Total Precipitation (mm)', titlefont=dict(color='blue'), tickfont=dict(color='blue')),\n",
    "    yaxis2=dict(title='Average Temperature (°C)', titlefont=dict(color='red'), tickfont=dict(color='red'), overlaying='y', side='right'),\n",
    "    showlegend=False)\n",
    "fig = go.Figure(data=[trace1, trace2], layout=layout)\n",
    "fig.update_yaxes(showgrid=False)\n",
    "fig.show()"
   ]
  },
  {
   "cell_type": "markdown",
   "metadata": {},
   "source": [
    "On the graph you can mouseover to check values and also zoom in and out.\n",
    "\n",
    "You can download your climatograph using the 📷 button."
   ]
  },
  {
   "cell_type": "markdown",
   "metadata": {},
   "source": [
    "### Climateograph for a Single Year\n",
    "\n",
    "Run the following code if you'd prefer a single-year climatograph."
   ]
  },
  {
   "cell_type": "code",
   "execution_count": null,
   "metadata": {},
   "outputs": [],
   "source": [
    "location = 'Calgary, AB'\n",
    "year = 2016\n",
    "# year can be any between 1901 and 2016\n",
    "\n",
    "coordinates = geolocator.geocode(location)\n",
    "latitude = coordinates.latitude  # if geolocator isn't working, you can manually set the lat and long here\n",
    "longitude = coordinates.longitude\n",
    "\n",
    "precipitation_url = 'https://climateknowledgeportal.worldbank.org/api/data/get-download-data/historical/pr/1901-2016/'+str(latitude)+'$cckp$'+str(longitude)+'/'+str(latitude)+'$cckp$'+str(longitude)\n",
    "df_precipitation_all = pd.read_csv(precipitation_url)\n",
    "df_precipitation = df_precipitation_all[df_precipitation_all[' Year']==year].drop(columns=[' Longitude', ' Latitude', ' Year']).replace(' Average','',regex=True).replace(' ','',regex=True)\n",
    "dfp = df_precipitation.rename(columns={'Rainfall - (MM)':'Precipitation (mm)', ' Statistics':'Month'}).set_index('Month')\n",
    "\n",
    "temperature_url = 'https://climateknowledgeportal.worldbank.org/api/data/get-download-data/historical/tas/1991-2016/'+str(latitude)+'$cckp$'+str(longitude)+'/'+str(latitude)+'$cckp$'+str(longitude)\n",
    "df_temperature_all = pd.read_csv(temperature_url)\n",
    "df_temperature = df_temperature_all[df_temperature_all[' Year']==year].drop(columns=[' Longitude', ' Latitude', ' Year']).replace(' Average','',regex=True).replace(' ','',regex=True)\n",
    "dft = df_temperature.rename(columns={'Temperature - (Celsius)':'Temperature (°C)', ' Statistics':'Month'}).set_index('Month')\n",
    "\n",
    "months = ['Jan', 'Feb', 'Mar', 'Apr', 'May', 'Jun', 'Jul', 'Aug', 'Sep', 'Oct', 'Nov', 'Dec']\n",
    "climate_data = dfp.join(dft)\n",
    "climate_data.index = pd.CategoricalIndex(climate_data.index, categories=months, ordered=True)\n",
    "climate_data = climate_data.sort_index()\n",
    "\n",
    "trace1 = go.Bar(x=climate_data.index.values.tolist(),y=climate_data['Precipitation (mm)'],name='Precipitation')\n",
    "trace2 = go.Scatter(x=climate_data.index.values.tolist(),y=climate_data['Temperature (°C)'],name='Average Temperature (°C)',yaxis='y2')\n",
    "layout = go.Layout(\n",
    "    title= (str(year)+' Climatograph for '+location+' ('+str(latitude)+','+str(longitude)+')'),\n",
    "    yaxis=dict(title='Total Precipitation (mm)', titlefont=dict(color='blue'), tickfont=dict(color='blue')),\n",
    "    yaxis2=dict(title='Average Temperature (°C)', titlefont=dict(color='red'), tickfont=dict(color='red'), overlaying='y', side='right'),\n",
    "    showlegend=False)\n",
    "fig = go.Figure(data=[trace1, trace2], layout=layout)\n",
    "fig.update_yaxes(showgrid=False)\n",
    "fig.show()"
   ]
  },
  {
   "cell_type": "markdown",
   "metadata": {},
   "source": [
    "### Animated Climatograph\n",
    "\n",
    "If you are interested in [animating graphs](https://plot.ly/python/animations/) over time, the following two code cells might be a good place to start."
   ]
  },
  {
   "cell_type": "code",
   "execution_count": null,
   "metadata": {},
   "outputs": [],
   "source": [
    "import plotly.express as px\n",
    "max_rainfall = df_precipitation_all['Rainfall - (MM)'].max()\n",
    "fig = px.bar(df_precipitation_all.replace(' Average','',regex=True), x=' Statistics', y='Rainfall - (MM)', animation_frame=' Year', range_y=[0,max_rainfall])\n",
    "fig.show()"
   ]
  },
  {
   "cell_type": "code",
   "execution_count": null,
   "metadata": {},
   "outputs": [],
   "source": [
    "max_temperature = df_temperature_all['Temperature - (Celsius)'].max()\n",
    "min_temperature = df_temperature_all['Temperature - (Celsius)'].min()\n",
    "fig = px.line(df_temperature_all.replace(' Average','',regex=True), x=' Statistics', y='Temperature - (Celsius)', animation_frame=' Year', range_y=[min_temperature,max_temperature])\n",
    "fig.show()"
   ]
  },
  {
   "cell_type": "markdown",
   "metadata": {},
   "source": [
    "[![Callysto.ca License](https://github.com/callysto/curriculum-notebooks/blob/master/callysto-notebook-banner-bottom.jpg?raw=true)](https://github.com/callysto/curriculum-notebooks/blob/master/LICENSE.md)"
   ]
  }
 ],
 "metadata": {
  "kernelspec": {
   "display_name": "Python 3",
   "language": "python",
   "name": "python3"
  },
  "language_info": {
   "codemirror_mode": {
    "name": "ipython",
    "version": 3
   },
   "file_extension": ".py",
   "mimetype": "text/x-python",
   "name": "python",
   "nbconvert_exporter": "python",
   "pygments_lexer": "ipython3",
   "version": "3.7.4"
  }
 },
 "nbformat": 4,
 "nbformat_minor": 2
}
